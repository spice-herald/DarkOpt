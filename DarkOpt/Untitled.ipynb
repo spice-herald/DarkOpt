{
 "cells": [
  {
   "cell_type": "code",
   "execution_count": 1,
   "metadata": {},
   "outputs": [],
   "source": [
    "from _TES import TES\n",
    "from _QET import QET\n",
    "from _absorber import Absorber\n",
    "from _detector import Detector"
   ]
  },
  {
   "cell_type": "code",
   "execution_count": 38,
   "metadata": {},
   "outputs": [
    {
     "name": "stdout",
     "output_type": "stream",
     "text": [
      "---------------- ABSORBER PARAMETERS ----------------\n",
      "Absorber lscat  0.0016666666666666668\n",
      "Absorber SA_face 0.0001\n",
      "Absorber SA 0.00024\n",
      "Absorber mass 0.00023290000000000002\n",
      "------------------------------------------------\n",
      "\n"
     ]
    }
   ],
   "source": [
    "l = 2.5e-05*10\n",
    "w = 2.5e-06\n",
    "l_overlap = 4e-06*11\n",
    "n_fins = 4\n",
    "sigma = 220000000.0\n",
    "t0 = 40e-3\n",
    "res_n = 0.23999999999999996\n",
    "0.45\n",
    "con_type= 'ellipse'\n",
    "l_f = 0.00030500000000000015\n",
    "h_fin = 9e-07\n",
    "ahole = 4.9e-11\n",
    "\n",
    "\n",
    "absorber = Absorber(\"Si\", \"square\", 1e-3, 1e-2, 3e-3)\n",
    "absorber.print()"
   ]
  },
  {
   "cell_type": "code",
   "execution_count": 39,
   "metadata": {},
   "outputs": [
    {
     "name": "stdout",
     "output_type": "stream",
     "text": [
      "---------------- TES PARAMETERS ----------------\n",
      "sigma = 220000000.0\n",
      "wTc =  0.0001212666209673604\n",
      "Tc =  0.04\n",
      "rho =  9.599999999999999e-08\n",
      "t =  4e-08\n",
      "l =  0.00025\n",
      "w =  2.5e-06\n",
      "foverlap =  0.9657142857142856\n",
      "res1tes =  239.99999999999994\n",
      "n_fin =  4\n",
      "vol1TES =  2.5000000000000006e-17\n",
      "vol1 =  4.335000145e-16\n",
      "nTES =  1000\n",
      "tot_volume =  4.3350001449999996e-13\n",
      "K =  9.537000319e-05 \n",
      "volFinCon =  3.24e-18\n",
      "WAlOverlap =  9.0144181e-16\n",
      "veff_WFinCon =  0.88\n",
      "veff_WAloverlap =  0.45\n",
      "Rn =  0.23999999999999996\n",
      "P0 =  0.10799999999999998\n",
      "fOp =  0.45\n",
      "P0 =  9.741507263192244e-12\n",
      "L =  5e-08\n",
      "tau_el = 4.201680672268908e-07\n",
      "tau_etf = 6.21090249046861e-05\n",
      "tau_0 = 0.003731244819599223\n",
      "tau_+ = 4.265302033841045e-07\n",
      "tau_- = 6.11826049937398e-05\n",
      "------------------------------------------------\n",
      "\n",
      "---------------- QET PARAMETERS ----------------\n",
      "ePQP =  0.52\n",
      "eQPabsb = 0.5655054584050065\n",
      "lfin =  0.00030500000000000015\n",
      "hfin =  9e-07\n",
      "loverlap =  4.4e-05\n",
      "ld =  510.29999999999995\n",
      "la =  150.89418777943368 \n",
      "Afin_empty =  1.1658000000000004e-08\n",
      "Afin =  4.0036187651830173e-07\n",
      "------------------------------------------------\n",
      "\n"
     ]
    }
   ],
   "source": [
    "tes = TES(length=l,\n",
    "   width=w, \n",
    "   l_overlap = l_overlap,\n",
    "   n_fin=n_fins,\n",
    "   sigma=sigma,\n",
    "   rn=res_n,\n",
    "   rl=0.011,\n",
    "   L_tot= 5e-08,)\n",
    "tes.print()\n",
    "qet = QET(l_fin=l_f, h_fin=h_fin, TES=tes, ahole=ahole, type_qp_eff=2)\n",
    "qet.print()"
   ]
  },
  {
   "cell_type": "code",
   "execution_count": 36,
   "metadata": {},
   "outputs": [
    {
     "name": "stdout",
     "output_type": "stream",
     "text": [
      "---------------- DETECTOR PARAMETERS ----------------\n",
      "nP 1\n",
      "SAactive 0.0004043158765183017\n",
      "fSA_active 1.6846494854929237\n",
      "lcell 0.00012649110640673515\n",
      "SApassive 2.011719069767441e-07\n",
      "fSA_passive 0.0008382162790697671\n",
      "Alignment_area 1.0385999999999999e-07\n",
      "fSA_QPabsb 1.6854877017719936\n",
      "ePcollect 0.9995026862087523\n",
      "tau_pabsb 2.1716991414453615e-07\n",
      "w_pabsb 4604689.392355038\n",
      "eE156 0.869\n",
      "QP_eff 0.5655054584050065\n",
      "eEabsb 0.2554135226761962\n",
      "Kpb 0.000155\n",
      "nKpb 4\n",
      "NQET.TES 1000\n",
      "total_L 5e-08\n",
      "------------------------------------------------\n",
      "\n"
     ]
    }
   ],
   "source": [
    "det = Detector('farts', absorber, qet)\n",
    "det.print()"
   ]
  },
  {
   "cell_type": "code",
   "execution_count": 37,
   "metadata": {},
   "outputs": [],
   "source": [
    "vol = 100e-6*400e-6*40e-9\n",
    "4e-12/vol\n",
    "g = 4e-12"
   ]
  },
  {
   "cell_type": "code",
   "execution_count": 9,
   "metadata": {},
   "outputs": [
    {
     "data": {
      "text/plain": [
       "195312500.0"
      ]
     },
     "execution_count": 9,
     "metadata": {},
     "output_type": "execute_result"
    }
   ],
   "source": [
    "#K = vol * sigma\n",
    "n=5\n",
    "tc = 40e-3\n",
    "K = g/(n*tc**(n-1))\n",
    "K/vol"
   ]
  },
  {
   "cell_type": "code",
   "execution_count": 6,
   "metadata": {},
   "outputs": [
    {
     "data": {
      "text/plain": [
       "1.380649e-23"
      ]
     },
     "execution_count": 6,
     "metadata": {},
     "output_type": "execute_result"
    }
   ],
   "source": [
    "import scipy.constants as constants\n",
    "constants.k"
   ]
  },
  {
   "cell_type": "code",
   "execution_count": null,
   "metadata": {},
   "outputs": [],
   "source": [
    "self.K = self.tot_volume * sigma\n",
    "        \n",
    "\n",
    "        #  ---- Bias Point Temperature ----\n",
    "        # let's calculate the temperature of the operating point resistance.\n",
    "        # [Notice that if the resistance of the TES changes with current, then this doesn't work]\n",
    "        zeta_o = np.log(self.fOp/(1 - self.fOp))/2\n",
    "        self.t0 = zeta_o * self.wTc + self.T_c # K    \n",
    "        self.Gep = self.n * self.K * self.t0 ** (self.n-1)"
   ]
  }
 ],
 "metadata": {
  "kernelspec": {
   "display_name": "Python 3",
   "language": "python",
   "name": "python3"
  },
  "language_info": {
   "codemirror_mode": {
    "name": "ipython",
    "version": 3
   },
   "file_extension": ".py",
   "mimetype": "text/x-python",
   "name": "python",
   "nbconvert_exporter": "python",
   "pygments_lexer": "ipython3",
   "version": "3.8.3"
  }
 },
 "nbformat": 4,
 "nbformat_minor": 4
}
