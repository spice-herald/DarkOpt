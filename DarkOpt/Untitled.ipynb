{
 "cells": [
  {
   "cell_type": "code",
   "execution_count": 1,
   "metadata": {},
   "outputs": [],
   "source": [
    "from _TES import TES\n",
    "from _QET import QET\n",
    "from _absorber import Absorber\n",
    "from _detector import Detector"
   ]
  },
  {
   "cell_type": "code",
   "execution_count": 2,
   "metadata": {},
   "outputs": [
    {
     "name": "stdout",
     "output_type": "stream",
     "text": [
      "---------------- ABSORBER PARAMETERS ----------------\n",
      "Absorber lscat  0.0016666666666666668\n",
      "Absorber SA_face 0.0001\n",
      "Absorber SA 0.00024\n",
      "Absorber mass 0.00023290000000000002\n",
      "------------------------------------------------\n",
      "\n"
     ]
    }
   ],
   "source": [
    "l = 140e-6 #2.5e-05*10\n",
    "w = 2.5e-06\n",
    "l_overlap = 20e-6\n",
    "n_fins = 6\n",
    "sigma = 220000000.0\n",
    "t0 = 40e-3\n",
    "res_n = 0.23999999999999996\n",
    "res_n = 2\n",
    "0.45\n",
    "con_type= 'ellipse'\n",
    "con_type= 'modern'\n",
    "l_f = 150e-6#0.00030500000000000015\n",
    "h_fin = 600e-6# 9e-07\n",
    "ahole = 4.9e-11\n",
    "\n",
    "\n",
    "absorber = Absorber(\"Si\", \"square\", 1e-3, 1e-2, 3e-3)\n",
    "absorber.print()"
   ]
  },
  {
   "cell_type": "code",
   "execution_count": 3,
   "metadata": {},
   "outputs": [
    {
     "name": "stdout",
     "output_type": "stream",
     "text": [
      "---------------- TES PARAMETERS ----------------\n",
      "sigma = 220000000.0\n",
      "wTc =  0.0001212666209673604\n",
      "Tc =  0.04\n",
      "rho =  9.599999999999999e-08\n",
      "t =  4e-08\n",
      "l =  0.00014\n",
      "w =  2.5e-06\n",
      "foverlap =  0.90625\n",
      "res1tes =  134.39999999999995\n",
      "n_fin =  6\n",
      "vol1TES =  1.4e-17\n",
      "vol1 =  1.0747062500000001e-16\n",
      "nTES =  68\n",
      "tot_volume =  7.3080025e-15\n",
      "K =  1.6077605500000001e-06 \n",
      "volFinCon =  4.8599999999999996e-18\n",
      "WAlOverlap =  1.9820850000000002e-16\n",
      "veff_WFinCon =  0.88\n",
      "veff_WAloverlap =  0.45\n",
      "Rn =  2\n",
      "P0 =  0.9\n",
      "fOp =  0.45\n",
      "P0 =  1.642236610194556e-13\n",
      "L =  5e-08\n",
      "tau_el = 5.48847420417124e-08\n",
      "tau_etf = 5.202216063901782e-05\n",
      "tau_0 = 0.0037312448195992234\n",
      "tau_+ = 5.5000716957354164e-08\n",
      "tau_- = 5.191246632909453e-05\n",
      "------------------------------------------------\n",
      "\n",
      "---------------- QET PARAMETERS ----------------\n",
      "ePQP =  0.52\n",
      "eQPabsb = 0.6609188732288768\n",
      "lfin =  0.00015\n",
      "hfin =  0.0006\n",
      "loverlap =  2e-05\n",
      "ld =  340200.0\n",
      "la =  147540983.6065574 \n",
      "Afin_empty =  8.382e-09\n",
      "Afin =  9.529055756846314e-08\n",
      "------------------------------------------------\n",
      "\n"
     ]
    }
   ],
   "source": [
    "tes = TES(length=l,\n",
    "   width=w, \n",
    "   l_overlap = l_overlap,\n",
    "   n_fin=n_fins,\n",
    "   sigma=sigma,\n",
    "   rn=res_n,\n",
    "   rl=0.011,\n",
    "   L_tot= 5e-08,)\n",
    "tes.print()\n",
    "qet = QET(l_fin=l_f, h_fin=h_fin, TES=tes, ahole=ahole, type_qp_eff=2)\n",
    "qet.print()"
   ]
  },
  {
   "cell_type": "code",
   "execution_count": 4,
   "metadata": {},
   "outputs": [
    {
     "name": "stdout",
     "output_type": "stream",
     "text": [
      "---------------- DETECTOR PARAMETERS ----------------\n",
      "nP =  1\n",
      "SAactive =  6.479757914655494e-06\n",
      "fSA_active =  0.026998991311064556\n",
      "lcell =  0.0004850712500726659\n",
      "SApassive =  2.9664760504447155e-07\n",
      "fraction total Al cov =  0.028235022998749856\n",
      "fSA_passive =  0.001236031687685298\n",
      "Alignment_area =  1.0385999999999999e-07\n",
      "fSA_QPabsb =  0.028235022998749856\n",
      "ePcollect =  0.9562234573798638\n",
      "tau_pabsb =  1.2963942671543146e-05\n",
      "w_pabsb =  77137.02731770615\n",
      "eE156 =  0.869\n",
      "QP_eff =  0.6609188732288768\n",
      "eEabsb =  0.2855818924273465\n",
      "Kpb =  0.000155\n",
      "nKpb =  4\n",
      "NQET.TES =  68\n",
      "total_L =  5e-08\n",
      "------------------------------------------------\n",
      "\n"
     ]
    }
   ],
   "source": [
    "det = Detector('farts', absorber, qet)\n",
    "det.print()"
   ]
  },
  {
   "cell_type": "code",
   "execution_count": 5,
   "metadata": {},
   "outputs": [],
   "source": [
    "vol = 100e-6*400e-6*40e-9\n",
    "4e-12/vol\n",
    "g = 4e-12"
   ]
  },
  {
   "cell_type": "code",
   "execution_count": 9,
   "metadata": {},
   "outputs": [
    {
     "data": {
      "text/plain": [
       "195312500.0"
      ]
     },
     "execution_count": 9,
     "metadata": {},
     "output_type": "execute_result"
    }
   ],
   "source": [
    "#K = vol * sigma\n",
    "n=5\n",
    "tc = 40e-3\n",
    "K = g/(n*tc**(n-1))\n",
    "K/vol"
   ]
  },
  {
   "cell_type": "code",
   "execution_count": 6,
   "metadata": {},
   "outputs": [
    {
     "data": {
      "text/plain": [
       "1.380649e-23"
      ]
     },
     "execution_count": 6,
     "metadata": {},
     "output_type": "execute_result"
    }
   ],
   "source": [
    "import scipy.constants as constants\n",
    "constants.k"
   ]
  },
  {
   "cell_type": "code",
   "execution_count": null,
   "metadata": {},
   "outputs": [],
   "source": [
    "self.K = self.tot_volume * sigma\n",
    "        \n",
    "\n",
    "        #  ---- Bias Point Temperature ----\n",
    "        # let's calculate the temperature of the operating point resistance.\n",
    "        # [Notice that if the resistance of the TES changes with current, then this doesn't work]\n",
    "        zeta_o = np.log(self.fOp/(1 - self.fOp))/2\n",
    "        self.t0 = zeta_o * self.wTc + self.T_c # K    \n",
    "        self.Gep = self.n * self.K * self.t0 ** (self.n-1)"
   ]
  }
 ],
 "metadata": {
  "kernelspec": {
   "display_name": "Python 3",
   "language": "python",
   "name": "python3"
  },
  "language_info": {
   "codemirror_mode": {
    "name": "ipython",
    "version": 3
   },
   "file_extension": ".py",
   "mimetype": "text/x-python",
   "name": "python",
   "nbconvert_exporter": "python",
   "pygments_lexer": "ipython3",
   "version": "3.8.3"
  }
 },
 "nbformat": 4,
 "nbformat_minor": 4
}
