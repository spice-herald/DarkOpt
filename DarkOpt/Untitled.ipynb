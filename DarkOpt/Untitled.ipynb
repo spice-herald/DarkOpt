{
 "cells": [
  {
   "cell_type": "code",
   "execution_count": 2,
   "metadata": {},
   "outputs": [],
   "source": [
    "from _TES import TES\n",
    "from _QET import QET\n",
    "from _absorber import Absorber\n",
    "from _detector import Detector, create_detector\n",
    "from _optimize import optimize_detector\n",
    "from scipy.optimize import minimize\n",
    "import numpy as np\n"
   ]
  },
  {
   "cell_type": "code",
   "execution_count": 3,
   "metadata": {},
   "outputs": [],
   "source": [
    "l = 140e-6 #2.5e-05*10\n",
    "w = 2.5e-06\n",
    "l_overlap = 20e-6\n",
    "n_fins = 6\n",
    "sigma = 220000000.0\n",
    "t0 = 40e-3\n",
    "res_n = 0.23999999999999996\n",
    "res_n = 1\n",
    "0.45\n",
    "con_type= 'ellipse'\n",
    "#con_type= 'modern'\n",
    "l_f = 150e-6 * 0.9#0.00030500000000000015\n",
    "h_fin = 600e-6# 9e-07\n",
    "ahole = 4.9e-11\n",
    "\n",
    "\n",
    "absorber = Absorber(name=\"Si\", shape= \"square\",\n",
    "                    height= 1e-3, width=1e-2,  w_safety=3e-3)\n",
    "#absorber.print()"
   ]
  },
  {
   "cell_type": "code",
   "execution_count": 9,
   "metadata": {},
   "outputs": [
    {
     "name": "stdout",
     "output_type": "stream",
     "text": [
      "resolution: 314.3 [meV]\n",
      "TES Length = 58.4 [μm]\n",
      "Overlap Legth = 10.2 [μm]\n",
      "Fin Length = 62.1 [μm]\n",
      "Fin Height = 600.4 [μm]\n",
      "N Fins = 6\n",
      "Total Al surface coverage = 0.156 [%]\n",
      "Number of TESs = 12\n",
      "Close Packed: False\n"
     ]
    }
   ],
   "source": [
    "det_opt, eres, params = optimize_detector(tes_length0=l,\n",
    "    tes_l_overlap0=l_overlap,\n",
    "    n_fin0=n_fins,\n",
    "    l_fin0=l_f,\n",
    "    h_fin0=h_fin,\n",
    "    per_Al = .001,                               \n",
    "    tes_width=w,\n",
    "    abs_type=\"Si\", \n",
    "    abs_shape=\"square\", \n",
    "    abs_height=1e-3, \n",
    "    abs_width=1e-2, \n",
    "    w_safety=3e-3,\n",
    "    sigma=sigma,\n",
    "    rn=res_n,\n",
    "    rp=6e-3,\n",
    "    L_tot=5e-08,\n",
    "    ahole=ahole,)\n"
   ]
  },
  {
   "cell_type": "code",
   "execution_count": 4,
   "metadata": {},
   "outputs": [],
   "source": [
    "tes = TES(length=l,\n",
    "       width=w, \n",
    "       l_overlap = l_overlap,\n",
    "       n_fin=n_fins,\n",
    "       sigma=sigma,\n",
    "       rn=res_n,\n",
    "       rsh = 5e-3,\n",
    "       rp = 6e-3,   \n",
    "   L_tot= 5e-08,)\n",
    "#tes.print()\n",
    "qet = QET(l_fin=l_f, h_fin=h_fin, TES=tes, ahole=ahole, type_qp_eff=0)\n",
    "#qet.print()"
   ]
  },
  {
   "cell_type": "code",
   "execution_count": 4,
   "metadata": {},
   "outputs": [],
   "source": [
    "det = Detector(absorber, qet)\n",
    "#det.print()"
   ]
  },
  {
   "cell_type": "code",
   "execution_count": 5,
   "metadata": {},
   "outputs": [
    {
     "data": {
      "text/plain": [
       "0.24920149882907355"
      ]
     },
     "execution_count": 5,
     "metadata": {},
     "output_type": "execute_result"
    }
   ],
   "source": [
    "det.calc_res()\n",
    "#det.plot_si()\n",
    "#det.plot_sp()"
   ]
  },
  {
   "cell_type": "code",
   "execution_count": 1,
   "metadata": {},
   "outputs": [
    {
     "ename": "NameError",
     "evalue": "name 'det' is not defined",
     "output_type": "error",
     "traceback": [
      "\u001b[0;31m---------------------------------------------------------------------------\u001b[0m",
      "\u001b[0;31mNameError\u001b[0m                                 Traceback (most recent call last)",
      "\u001b[0;32m<ipython-input-1-db71d336c830>\u001b[0m in \u001b[0;36m<module>\u001b[0;34m\u001b[0m\n\u001b[0;32m----> 1\u001b[0;31m \u001b[0mdet\u001b[0m\u001b[0;34m.\u001b[0m\u001b[0mplot_responsivity\u001b[0m\u001b[0;34m(\u001b[0m\u001b[0;34m)\u001b[0m\u001b[0;34m\u001b[0m\u001b[0;34m\u001b[0m\u001b[0m\n\u001b[0m",
      "\u001b[0;31mNameError\u001b[0m: name 'det' is not defined"
     ]
    }
   ],
   "source": [
    "det.plot_responsivity()"
   ]
  },
  {
   "cell_type": "code",
   "execution_count": null,
   "metadata": {},
   "outputs": [],
   "source": []
  }
 ],
 "metadata": {
  "kernelspec": {
   "display_name": "Python 3",
   "language": "python",
   "name": "python3"
  },
  "language_info": {
   "codemirror_mode": {
    "name": "ipython",
    "version": 3
   },
   "file_extension": ".py",
   "mimetype": "text/x-python",
   "name": "python",
   "nbconvert_exporter": "python",
   "pygments_lexer": "ipython3",
   "version": "3.8.3"
  }
 },
 "nbformat": 4,
 "nbformat_minor": 4
}
