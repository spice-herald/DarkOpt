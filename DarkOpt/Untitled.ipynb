{
 "cells": [
  {
   "cell_type": "code",
   "execution_count": 1,
   "metadata": {},
   "outputs": [],
   "source": [
    "from _TES import TES\n",
    "from _QET import QET\n",
    "from _absorber import Absorber\n",
    "from _detector import Detector"
   ]
  },
  {
   "cell_type": "code",
   "execution_count": 4,
   "metadata": {},
   "outputs": [
    {
     "ename": "NameError",
     "evalue": "name 'printing' is not defined",
     "output_type": "error",
     "traceback": [
      "\u001b[0;31m---------------------------------------------------------------------------\u001b[0m",
      "\u001b[0;31mNameError\u001b[0m                                 Traceback (most recent call last)",
      "\u001b[0;32m<ipython-input-4-a755708d5df8>\u001b[0m in \u001b[0;36m<module>\u001b[0;34m\u001b[0m\n\u001b[1;32m     13\u001b[0m \u001b[0;34m\u001b[0m\u001b[0m\n\u001b[1;32m     14\u001b[0m \u001b[0;34m\u001b[0m\u001b[0m\n\u001b[0;32m---> 15\u001b[0;31m \u001b[0mabsorber\u001b[0m \u001b[0;34m=\u001b[0m \u001b[0mAbsorber\u001b[0m\u001b[0;34m(\u001b[0m\u001b[0;34m\"Si\"\u001b[0m\u001b[0;34m,\u001b[0m \u001b[0;34m\"square\"\u001b[0m\u001b[0;34m,\u001b[0m \u001b[0;36m1e-3\u001b[0m\u001b[0;34m,\u001b[0m \u001b[0;36m10e-3\u001b[0m\u001b[0;34m,\u001b[0m \u001b[0;36m3e-3\u001b[0m\u001b[0;34m,\u001b[0m \u001b[0mprinting\u001b[0m\u001b[0;34m)\u001b[0m\u001b[0;34m\u001b[0m\u001b[0;34m\u001b[0m\u001b[0m\n\u001b[0m",
      "\u001b[0;31mNameError\u001b[0m: name 'printing' is not defined"
     ]
    }
   ],
   "source": [
    "l = 2.5e-05\n",
    "w = 2.5e-06\n",
    "l_overlap = 4e-06\n",
    "n_fins = 2\n",
    "sigma = 220000000.0\n",
    "t0 = 40e-3\n",
    "res_n = 0.23999999999999996\n",
    "0.45\n",
    "con_type= 'ellipse'\n",
    "l_f = 0.00030500000000000015\n",
    "h_fin = 9e-07\n",
    "ahole = 4.9e-11\n",
    "\n",
    "\n",
    "absorber = Absorber(\"Si\", \"square\", 1e-3, 10e-3, 3e-3, printing)"
   ]
  },
  {
   "cell_type": "code",
   "execution_count": 3,
   "metadata": {},
   "outputs": [
    {
     "name": "stdout",
     "output_type": "stream",
     "text": [
      "---------------- QET PARAMETERS ----------------\n",
      "ePQP =  0.52\n",
      "eQPabsb = 0.024542866675648405\n",
      "lfin =  0.00030500000000000015\n",
      "hfin =  9e-07\n",
      "loverlap =  4e-06\n",
      "ld =  510.29999999999995\n",
      "la =  1659.8360655737702 \n",
      "Afin_empty =  4.329000000000002e-09\n",
      "Afin =  2.9989497859200183e-07\n",
      "------------------------------------------------\n",
      "\n"
     ]
    }
   ],
   "source": [
    "tes = TES(length=l,\n",
    "   width=w, \n",
    "   l_overlap = l_overlap,\n",
    "   n_fin=n_fins,\n",
    "   sigma=sigma,\n",
    "   rn=res_n,\n",
    "   rl=0.011,\n",
    "   L_tot= 5e-08,)\n",
    "#tes.print()\n",
    "qet = QET(l_fin=l_f, h_fin=h_fin, TES=tes, ahole=ahole, type_qp_eff=2)\n",
    "qet.print()"
   ]
  },
  {
   "cell_type": "code",
   "execution_count": 6,
   "metadata": {},
   "outputs": [
    {
     "data": {
      "text/plain": [
       "0.008060000000000001"
      ]
     },
     "execution_count": 6,
     "metadata": {},
     "output_type": "execute_result"
    }
   ],
   "source": [
    ".52*.025*.62"
   ]
  },
  {
   "cell_type": "code",
   "execution_count": 6,
   "metadata": {},
   "outputs": [],
   "source": [
    "vol = 100e-6*400e-6*40e-9\n",
    "4e-12/vol\n",
    "g = 4e-12"
   ]
  },
  {
   "cell_type": "code",
   "execution_count": 9,
   "metadata": {},
   "outputs": [
    {
     "data": {
      "text/plain": [
       "195312500.0"
      ]
     },
     "execution_count": 9,
     "metadata": {},
     "output_type": "execute_result"
    }
   ],
   "source": [
    "#K = vol * sigma\n",
    "n=5\n",
    "tc = 40e-3\n",
    "K = g/(n*tc**(n-1))\n",
    "K/vol"
   ]
  },
  {
   "cell_type": "code",
   "execution_count": null,
   "metadata": {},
   "outputs": [],
   "source": [
    "self.K = self.tot_volume * sigma\n",
    "        \n",
    "\n",
    "        #  ---- Bias Point Temperature ----\n",
    "        # let's calculate the temperature of the operating point resistance.\n",
    "        # [Notice that if the resistance of the TES changes with current, then this doesn't work]\n",
    "        zeta_o = np.log(self.fOp/(1 - self.fOp))/2\n",
    "        self.t0 = zeta_o * self.wTc + self.T_c # K    \n",
    "        self.Gep = self.n * self.K * self.t0 ** (self.n-1)"
   ]
  }
 ],
 "metadata": {
  "kernelspec": {
   "display_name": "Python 3",
   "language": "python",
   "name": "python3"
  },
  "language_info": {
   "codemirror_mode": {
    "name": "ipython",
    "version": 3
   },
   "file_extension": ".py",
   "mimetype": "text/x-python",
   "name": "python",
   "nbconvert_exporter": "python",
   "pygments_lexer": "ipython3",
   "version": "3.8.3"
  }
 },
 "nbformat": 4,
 "nbformat_minor": 4
}
