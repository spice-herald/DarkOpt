{
 "cells": [
  {
   "cell_type": "code",
   "execution_count": 1,
   "metadata": {},
   "outputs": [],
   "source": [
    "from _TES import TES"
   ]
  },
  {
   "cell_type": "code",
   "execution_count": 6,
   "metadata": {},
   "outputs": [],
   "source": [
    "l = 2.5e-05\n",
    "w = 2.5e-06\n",
    "l_overlap = 4e-06\n",
    "n_fins = 2\n",
    "sigma = 220000000.0\n",
    "t0 = 40e-3\n",
    "res_n = 0.23999999999999996\n",
    "0.45\n",
    "con_type= 'ellipse'\n"
   ]
  },
  {
   "cell_type": "code",
   "execution_count": 7,
   "metadata": {},
   "outputs": [
    {
     "name": "stdout",
     "output_type": "stream",
     "text": [
      "---------------- TES PARAMETERS ----------------\n",
      "sigma = 220000000.0\n",
      "wTc =  0.0001212666209673604\n",
      "Tc =  0.04\n",
      "rho =  9.599999999999999e-08\n",
      "t =  4e-08\n",
      "l =  2.5e-05\n",
      "w =  2.5e-06\n",
      "foverlap =  0.8666666666666666\n",
      "res1tes =  23.999999999999996\n",
      "n_fin =  2\n",
      "vol1TES =  2.5e-18\n",
      "vol1 =  7.04139325e-18\n",
      "nTES =  100\n",
      "tot_volume =  7.041393250000001e-16\n",
      "K =  1.549106515e-07 \n",
      "volFinCon =  1.62e-18\n",
      "WAlOverlap =  6.923985e-18\n",
      "veff_WFinCon =  0.88\n",
      "veff_WAloverlap =  0.45\n",
      "Rn =  0.23999999999999996\n",
      "P0 =  0.10799999999999998\n",
      "fOp =  0.45\n",
      "P0 =  1.5823248256862017e-14\n",
      "L =  5e-08\n",
      "------------------------------------------------\n",
      "\n"
     ]
    },
    {
     "data": {
      "text/plain": [
       "<_TES.TES at 0x7f830e0a9fd0>"
      ]
     },
     "execution_count": 7,
     "metadata": {},
     "output_type": "execute_result"
    }
   ],
   "source": [
    "TES(length=l,\n",
    "   width=w, \n",
    "   l_overlap = l_overlap,\n",
    "   n_fin=n_fins,\n",
    "   sigma=sigma,\n",
    "   rn=res_n,\n",
    "   rl=0.011,\n",
    "   L= 5e-08,\n",
    "   lgcprint=True)"
   ]
  },
  {
   "cell_type": "code",
   "execution_count": null,
   "metadata": {},
   "outputs": [],
   "source": []
  }
 ],
 "metadata": {
  "kernelspec": {
   "display_name": "Python 3",
   "language": "python",
   "name": "python3"
  },
  "language_info": {
   "codemirror_mode": {
    "name": "ipython",
    "version": 3
   },
   "file_extension": ".py",
   "mimetype": "text/x-python",
   "name": "python",
   "nbconvert_exporter": "python",
   "pygments_lexer": "ipython3",
   "version": "3.8.3"
  }
 },
 "nbformat": 4,
 "nbformat_minor": 4
}
