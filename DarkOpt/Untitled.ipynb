{
 "cells": [
  {
   "cell_type": "code",
   "execution_count": 2,
   "metadata": {},
   "outputs": [],
   "source": [
    "from _TES import TES\n",
    "from _QET import QET\n",
    "from _absorber import Absorber\n",
    "from _detector import Detector, create_detector\n",
    "from _optimize import optimize_detector\n",
    "from scipy.optimize import minimize\n",
    "import numpy as np\n"
   ]
  },
  {
   "cell_type": "code",
   "execution_count": 3,
   "metadata": {},
   "outputs": [],
   "source": [
    "l = 140e-6 #2.5e-05*10\n",
    "w = 2.5e-06\n",
    "l_overlap = 20e-6\n",
    "n_fins = 6\n",
    "sigma = 220000000.0\n",
    "t0 = 40e-3\n",
    "res_n = 0.23999999999999996\n",
    "res_n = 1\n",
    "0.45\n",
    "con_type= 'ellipse'\n",
    "#con_type= 'modern'\n",
    "l_f = 150e-6 * 0.9#0.00030500000000000015\n",
    "h_fin = 600e-6# 9e-07\n",
    "ahole = 4.9e-11\n",
    "\n",
    "\n",
    "absorber = Absorber(name=\"Si\", shape= \"square\",\n",
    "                    height= 1e-3, width=1e-2,  w_safety=3e-3)\n",
    "#absorber.print()"
   ]
  },
  {
   "cell_type": "code",
   "execution_count": 3,
   "metadata": {},
   "outputs": [],
   "source": [
    "tes = TES(length=l,\n",
    "       width=w, \n",
    "       l_overlap = l_overlap,\n",
    "       n_fin=n_fins,\n",
    "       sigma=sigma,\n",
    "       rn=res_n,\n",
    "       rsh = 5e-3,\n",
    "       rp = 6e-3,   \n",
    "   L_tot= 5e-08,)\n",
    "#tes.print()\n",
    "qet = QET(l_fin=l_f, h_fin=h_fin, TES=tes, ahole=ahole, type_qp_eff=0)\n",
    "#qet.print()"
   ]
  },
  {
   "cell_type": "code",
   "execution_count": 4,
   "metadata": {},
   "outputs": [],
   "source": [
    "det = Detector(absorber, qet)\n",
    "#det.print()"
   ]
  },
  {
   "cell_type": "code",
   "execution_count": 5,
   "metadata": {},
   "outputs": [
    {
     "data": {
      "text/plain": [
       "0.24920149882907355"
      ]
     },
     "execution_count": 5,
     "metadata": {},
     "output_type": "execute_result"
    }
   ],
   "source": [
    "det.calc_res()\n",
    "#det.plot_si()\n",
    "#det.plot_sp()"
   ]
  },
  {
   "cell_type": "code",
   "execution_count": 16,
   "metadata": {},
   "outputs": [],
   "source": [
    "def loss_func(params, absorber, tes, qet, det):\n",
    "    l, l_overlap, l_fin, h_fin, n_fin = params\n",
    "    n_fin = int(n_fin)\n",
    "    abso1 = Absorber(name=absorber._name, shape=absorber._shape,\n",
    "                    height=absorber._h, width=absorber._width,\n",
    "                    w_safety=absorber._w_safety)\n",
    "    tes1 = TES(length=l, width=tes.w, l_overlap=l_overlap, n_fin=n_fin, sigma=tes.sigma,\n",
    "             rn=tes.n, rsh=tes.rsh, rp=tes.rp, L_tot=tes.L, tload=tes.tload,\n",
    "             h=tes.h, zeta_WAl_fin=tes.veff_WAloverlap, zeta_W_fin=tes.veff_WFinCon, \n",
    "             con_type=tes.con_type, material=tes.material, operating_point=tes.fOp,\n",
    "             alpha=tes.alpha, beta=tes.beta, n=tes.n, Qp=tes.Qp, t_mc=tes.t_mc)\n",
    "    qet1 = QET(l_fin=l_fin, h_fin=h_fin, TES=tes1, ahole=qet.ahole, ePQP=qet.ePQP,\n",
    "               eff_absb=qet.eff_absb, wempty=qet.wempty, wempty_tes=qet.wempty_tes, \n",
    "               type_qp_eff=qet.type_qp_eff)\n",
    "    det1 = Detector(abso1, qet1, n_channel=det._n_channel, \n",
    "                    freqs=det.freqs)\n",
    "    return det1.calc_res()\n",
    "\n",
    "\n",
    "\n",
    "def optimize_detector()\n",
    "\n",
    "    #minimize(loss_func, [l,l_overlap, l_f, h_fin], det1)"
   ]
  },
  {
   "cell_type": "code",
   "execution_count": 14,
   "metadata": {},
   "outputs": [
    {
     "data": {
      "text/plain": [
       "0.0006"
      ]
     },
     "execution_count": 14,
     "metadata": {},
     "output_type": "execute_result"
    }
   ],
   "source": [
    "140e-6\n",
    "l_f\n",
    "h_fin"
   ]
  },
  {
   "cell_type": "code",
   "execution_count": 20,
   "metadata": {},
   "outputs": [
    {
     "data": {
      "text/plain": [
       "array([1.12347838e-04, 1.37126361e-05, 1.17014408e-04, 5.40405249e-04,\n",
       "       5.39998333e+00])"
      ]
     },
     "execution_count": 20,
     "metadata": {},
     "output_type": "execute_result"
    }
   ],
   "source": [
    "x0 = np.array([l, l_overlap, l_f, h_fin, n_fins])*.9\n",
    "bounds = [[50e-6, 300e-6], [5e-6, 50e-6],[50e-6, 300e-6], [300e-6, 1000e-6], [2, 8] ]\n",
    "res = minimize(loss_func, x0, args=(absorber, tes, qet, det), bounds=bounds )\n"
   ]
  },
  {
   "cell_type": "code",
   "execution_count": 26,
   "metadata": {},
   "outputs": [
    {
     "name": "stdout",
     "output_type": "stream",
     "text": [
      "resolution: 224.5 [meV]\n",
      "TES Length = 112.3 [μm]\n",
      "Overlap Legth = 13.7 [μm]\n",
      "Fin Length = 117.0 [μm]\n",
      "Fin Height = 540.4 [μm]\n",
      "N Fins = 5\n"
     ]
    }
   ],
   "source": [
    "print(f\"resolution: {res['fun']*1e3:.1f} [meV]\")\n",
    "print(f\"TES Length = {res['x'][0]*1e6:.1f} [μm]\")\n",
    "print(f\"Overlap Legth = {res['x'][1]*1e6:.1f} [μm]\")\n",
    "print(f\"Fin Length = {res['x'][2]*1e6:.1f} [μm]\")\n",
    "print(f\"Fin Height = {res['x'][3]*1e6:.1f} [μm]\")\n",
    "print(f\"N Fins = {int(res['x'][4])}\")"
   ]
  },
  {
   "cell_type": "code",
   "execution_count": 45,
   "metadata": {},
   "outputs": [
    {
     "name": "stdout",
     "output_type": "stream",
     "text": [
      "[1.40e-04 2.50e-06 2.00e-05 1.35e-04 6.00e-04]\n",
      "[1.40014901e-04 2.50000000e-06 2.00000000e-05 1.35000000e-04\n",
      " 6.00000000e-04]\n",
      "[1.40000000e-04 2.51490116e-06 2.00000000e-05 1.35000000e-04\n",
      " 6.00000000e-04]\n",
      "[1.40000000e-04 2.50000000e-06 2.00149012e-05 1.35000000e-04\n",
      " 6.00000000e-04]\n",
      "[1.40000000e-04 2.50000000e-06 2.00000000e-05 1.35014901e-04\n",
      " 6.00000000e-04]\n",
      "[1.40000000e-04 2.50000000e-06 2.00000000e-05 1.35000000e-04\n",
      " 6.00014901e-04]\n"
     ]
    },
    {
     "ename": "ValueError",
     "evalue": "The user-provided objective function must return a scalar value.",
     "output_type": "error",
     "traceback": [
      "\u001b[0;31m---------------------------------------------------------------------------\u001b[0m",
      "\u001b[0;31mValueError\u001b[0m                                Traceback (most recent call last)",
      "\u001b[0;32m~/opt/anaconda3/lib/python3.8/site-packages/scipy/optimize/optimize.py\u001b[0m in \u001b[0;36m_minimize_bfgs\u001b[0;34m(fun, x0, args, jac, callback, gtol, norm, eps, maxiter, disp, return_all, finite_diff_rel_step, **unknown_options)\u001b[0m\n\u001b[1;32m   1111\u001b[0m         \u001b[0;32mtry\u001b[0m\u001b[0;34m:\u001b[0m\u001b[0;34m\u001b[0m\u001b[0;34m\u001b[0m\u001b[0m\n\u001b[0;32m-> 1112\u001b[0;31m             \u001b[0mold_fval\u001b[0m \u001b[0;34m=\u001b[0m \u001b[0mold_fval\u001b[0m\u001b[0;34m.\u001b[0m\u001b[0mitem\u001b[0m\u001b[0;34m(\u001b[0m\u001b[0;34m)\u001b[0m\u001b[0;34m\u001b[0m\u001b[0;34m\u001b[0m\u001b[0m\n\u001b[0m\u001b[1;32m   1113\u001b[0m         \u001b[0;32mexcept\u001b[0m \u001b[0;34m(\u001b[0m\u001b[0mValueError\u001b[0m\u001b[0;34m,\u001b[0m \u001b[0mAttributeError\u001b[0m\u001b[0;34m)\u001b[0m\u001b[0;34m:\u001b[0m\u001b[0;34m\u001b[0m\u001b[0;34m\u001b[0m\u001b[0m\n",
      "\u001b[0;31mValueError\u001b[0m: can only convert an array of size 1 to a Python scalar",
      "\nDuring handling of the above exception, another exception occurred:\n",
      "\u001b[0;31mValueError\u001b[0m                                Traceback (most recent call last)",
      "\u001b[0;32m<ipython-input-45-2270d3b7b43f>\u001b[0m in \u001b[0;36m<module>\u001b[0;34m\u001b[0m\n\u001b[1;32m      3\u001b[0m     \u001b[0mprint\u001b[0m\u001b[0;34m(\u001b[0m\u001b[0mparams\u001b[0m\u001b[0;34m)\u001b[0m\u001b[0;34m\u001b[0m\u001b[0;34m\u001b[0m\u001b[0m\n\u001b[1;32m      4\u001b[0m     \u001b[0;32mreturn\u001b[0m \u001b[0mdetector\u001b[0m\u001b[0;34m.\u001b[0m\u001b[0mcalc_res\u001b[0m\u001b[0;34m(\u001b[0m\u001b[0;34m)\u001b[0m \u001b[0;34m+\u001b[0m \u001b[0mparams\u001b[0m\u001b[0;34m\u001b[0m\u001b[0;34m\u001b[0m\u001b[0m\n\u001b[0;32m----> 5\u001b[0;31m \u001b[0mminimize\u001b[0m\u001b[0;34m(\u001b[0m\u001b[0mloss_func\u001b[0m\u001b[0;34m,\u001b[0m \u001b[0;34m[\u001b[0m\u001b[0ml\u001b[0m\u001b[0;34m,\u001b[0m\u001b[0mw\u001b[0m\u001b[0;34m,\u001b[0m\u001b[0ml_overlap\u001b[0m\u001b[0;34m,\u001b[0m \u001b[0ml_f\u001b[0m\u001b[0;34m,\u001b[0m \u001b[0mh_fin\u001b[0m\u001b[0;34m]\u001b[0m\u001b[0;34m,\u001b[0m \u001b[0mdet1\u001b[0m\u001b[0;34m)\u001b[0m\u001b[0;34m\u001b[0m\u001b[0;34m\u001b[0m\u001b[0m\n\u001b[0m",
      "\u001b[0;32m~/opt/anaconda3/lib/python3.8/site-packages/scipy/optimize/_minimize.py\u001b[0m in \u001b[0;36mminimize\u001b[0;34m(fun, x0, args, method, jac, hess, hessp, bounds, constraints, tol, callback, options)\u001b[0m\n\u001b[1;32m    610\u001b[0m         \u001b[0;32mreturn\u001b[0m \u001b[0m_minimize_cg\u001b[0m\u001b[0;34m(\u001b[0m\u001b[0mfun\u001b[0m\u001b[0;34m,\u001b[0m \u001b[0mx0\u001b[0m\u001b[0;34m,\u001b[0m \u001b[0margs\u001b[0m\u001b[0;34m,\u001b[0m \u001b[0mjac\u001b[0m\u001b[0;34m,\u001b[0m \u001b[0mcallback\u001b[0m\u001b[0;34m,\u001b[0m \u001b[0;34m**\u001b[0m\u001b[0moptions\u001b[0m\u001b[0;34m)\u001b[0m\u001b[0;34m\u001b[0m\u001b[0;34m\u001b[0m\u001b[0m\n\u001b[1;32m    611\u001b[0m     \u001b[0;32melif\u001b[0m \u001b[0mmeth\u001b[0m \u001b[0;34m==\u001b[0m \u001b[0;34m'bfgs'\u001b[0m\u001b[0;34m:\u001b[0m\u001b[0;34m\u001b[0m\u001b[0;34m\u001b[0m\u001b[0m\n\u001b[0;32m--> 612\u001b[0;31m         \u001b[0;32mreturn\u001b[0m \u001b[0m_minimize_bfgs\u001b[0m\u001b[0;34m(\u001b[0m\u001b[0mfun\u001b[0m\u001b[0;34m,\u001b[0m \u001b[0mx0\u001b[0m\u001b[0;34m,\u001b[0m \u001b[0margs\u001b[0m\u001b[0;34m,\u001b[0m \u001b[0mjac\u001b[0m\u001b[0;34m,\u001b[0m \u001b[0mcallback\u001b[0m\u001b[0;34m,\u001b[0m \u001b[0;34m**\u001b[0m\u001b[0moptions\u001b[0m\u001b[0;34m)\u001b[0m\u001b[0;34m\u001b[0m\u001b[0;34m\u001b[0m\u001b[0m\n\u001b[0m\u001b[1;32m    613\u001b[0m     \u001b[0;32melif\u001b[0m \u001b[0mmeth\u001b[0m \u001b[0;34m==\u001b[0m \u001b[0;34m'newton-cg'\u001b[0m\u001b[0;34m:\u001b[0m\u001b[0;34m\u001b[0m\u001b[0;34m\u001b[0m\u001b[0m\n\u001b[1;32m    614\u001b[0m         return _minimize_newtoncg(fun, x0, args, jac, hess, hessp, callback,\n",
      "\u001b[0;32m~/opt/anaconda3/lib/python3.8/site-packages/scipy/optimize/optimize.py\u001b[0m in \u001b[0;36m_minimize_bfgs\u001b[0;34m(fun, x0, args, jac, callback, gtol, norm, eps, maxiter, disp, return_all, finite_diff_rel_step, **unknown_options)\u001b[0m\n\u001b[1;32m   1112\u001b[0m             \u001b[0mold_fval\u001b[0m \u001b[0;34m=\u001b[0m \u001b[0mold_fval\u001b[0m\u001b[0;34m.\u001b[0m\u001b[0mitem\u001b[0m\u001b[0;34m(\u001b[0m\u001b[0;34m)\u001b[0m\u001b[0;34m\u001b[0m\u001b[0;34m\u001b[0m\u001b[0m\n\u001b[1;32m   1113\u001b[0m         \u001b[0;32mexcept\u001b[0m \u001b[0;34m(\u001b[0m\u001b[0mValueError\u001b[0m\u001b[0;34m,\u001b[0m \u001b[0mAttributeError\u001b[0m\u001b[0;34m)\u001b[0m\u001b[0;34m:\u001b[0m\u001b[0;34m\u001b[0m\u001b[0;34m\u001b[0m\u001b[0m\n\u001b[0;32m-> 1114\u001b[0;31m             raise ValueError(\"The user-provided \"\n\u001b[0m\u001b[1;32m   1115\u001b[0m                              \u001b[0;34m\"objective function must \"\u001b[0m\u001b[0;34m\u001b[0m\u001b[0;34m\u001b[0m\u001b[0m\n\u001b[1;32m   1116\u001b[0m                              \"return a scalar value.\")\n",
      "\u001b[0;31mValueError\u001b[0m: The user-provided objective function must return a scalar value."
     ]
    }
   ],
   "source": [
    "def loss_func(params, absorber, tes, qet, det):\n",
    "    l, l_overlap, l_fin, h_fin = params\n",
    "    \n",
    "    abso1 = Absorber(name=absorber._name, shape=absorber._shape,\n",
    "                    height=absorber._h, width=absorber._width,\n",
    "                    w_safety=absorber._w_safety)\n",
    "    tes1 = TES(length=l, width=tes.w, l_overlap=l_overlap, n_fin=tes.n_fin, sigma=tes.sigma,\n",
    "             rn=tes.n, rsh=tes.rsh, rp=tes.rp, L_tot=tes.L, tload=tes.tload,\n",
    "             h=tes.h, zeta_WAl_fin=tes.veff_WAloverlap, zeta_W_fin=tes.veff_WFinCon, \n",
    "             con_type=tes.con_type, material=tes.material, operating_point=tes.fOp,\n",
    "             alpha=tes.alpha, beta=tes.beta, n=tes.n, Qp=tes.Qp, t_mc=tes.t_mc)\n",
    "    qet1 = QET(l_fin=l_fin, h_fin=.h_fin, TES=tes1, ahole=qet.ahole, ePQP=qet.ePQP,\n",
    "               eff_absb=qet.eff_absb, wempty=qet.wempty, wempty_tes=qet.wempty_tes, \n",
    "               type_qp_eff=qet.type_qp_eff)\n",
    "    det1 = Detector(abso1, qet1, n_channel=det._n_channel, \n",
    "                    freqs=det.freqs)\n",
    "    return det1.calc_res()\n",
    "\n",
    "\n",
    "    #minimize(loss_func, [l,l_overlap, l_f, h_fin], det1)"
   ]
  },
  {
   "cell_type": "code",
   "execution_count": 4,
   "metadata": {},
   "outputs": [
    {
     "ename": "NameError",
     "evalue": "name 'absorber' is not defined",
     "output_type": "error",
     "traceback": [
      "\u001b[0;31m---------------------------------------------------------------------------\u001b[0m",
      "\u001b[0;31mNameError\u001b[0m                                 Traceback (most recent call last)",
      "\u001b[0;32m<ipython-input-4-6500581ebdf9>\u001b[0m in \u001b[0;36m<module>\u001b[0;34m\u001b[0m\n\u001b[0;32m----> 1\u001b[0;31m det_opt, eres, params = optimize_detector(tes_length0=l,\n\u001b[0m\u001b[1;32m      2\u001b[0m     \u001b[0mtes_l_overlap0\u001b[0m\u001b[0;34m=\u001b[0m\u001b[0ml_overlap\u001b[0m\u001b[0;34m,\u001b[0m\u001b[0;34m\u001b[0m\u001b[0;34m\u001b[0m\u001b[0m\n\u001b[1;32m      3\u001b[0m     \u001b[0mn_fin0\u001b[0m\u001b[0;34m=\u001b[0m\u001b[0mn_fins\u001b[0m\u001b[0;34m,\u001b[0m\u001b[0;34m\u001b[0m\u001b[0;34m\u001b[0m\u001b[0m\n\u001b[1;32m      4\u001b[0m     \u001b[0ml_fin0\u001b[0m\u001b[0;34m=\u001b[0m\u001b[0ml_f\u001b[0m\u001b[0;34m,\u001b[0m\u001b[0;34m\u001b[0m\u001b[0;34m\u001b[0m\u001b[0m\n\u001b[1;32m      5\u001b[0m     \u001b[0mh_fin0\u001b[0m\u001b[0;34m=\u001b[0m\u001b[0mh_fin\u001b[0m\u001b[0;34m,\u001b[0m\u001b[0;34m\u001b[0m\u001b[0;34m\u001b[0m\u001b[0m\n",
      "\u001b[0;32m~/Documents/research/code/repositories/DarkOpt/DarkOpt/_optimize.py\u001b[0m in \u001b[0;36moptimize_detector\u001b[0;34m(tes_length0, tes_l_overlap0, l_fin0, h_fin0, n_fin0, rn, abs_type, abs_shape, abs_height, abs_width, w_safety, tes_width, sigma, rp, L_tot, ahole, n_channel, rsh, tload, tes_h, zeta_WAl_fin, zeta_W_fin, con_type, material, operating_point, alpha, beta, n, Qp, t_mc, ePQP, eff_absb, wempty, wempty_tes, type_qp_eff, freqs)\u001b[0m\n\u001b[1;32m    176\u001b[0m     \u001b[0mbounds\u001b[0m \u001b[0;34m=\u001b[0m \u001b[0;34m[\u001b[0m\u001b[0;34m[\u001b[0m\u001b[0;36m50e-6\u001b[0m\u001b[0;34m,\u001b[0m \u001b[0;36m300e-6\u001b[0m\u001b[0;34m]\u001b[0m\u001b[0;34m,\u001b[0m \u001b[0;34m[\u001b[0m\u001b[0;36m5e-6\u001b[0m\u001b[0;34m,\u001b[0m \u001b[0;36m50e-6\u001b[0m\u001b[0;34m]\u001b[0m\u001b[0;34m,\u001b[0m\u001b[0;34m[\u001b[0m\u001b[0;36m50e-6\u001b[0m\u001b[0;34m,\u001b[0m \u001b[0;36m300e-6\u001b[0m\u001b[0;34m]\u001b[0m\u001b[0;34m,\u001b[0m \u001b[0;34m[\u001b[0m\u001b[0;36m300e-6\u001b[0m\u001b[0;34m,\u001b[0m \u001b[0;36m1000e-6\u001b[0m\u001b[0;34m]\u001b[0m\u001b[0;34m,\u001b[0m \u001b[0;34m[\u001b[0m\u001b[0;36m2\u001b[0m\u001b[0;34m,\u001b[0m \u001b[0;36m8\u001b[0m\u001b[0;34m]\u001b[0m \u001b[0;34m]\u001b[0m\u001b[0;34m\u001b[0m\u001b[0;34m\u001b[0m\u001b[0m\n\u001b[1;32m    177\u001b[0m     \u001b[0mres\u001b[0m \u001b[0;34m=\u001b[0m \u001b[0mminimize\u001b[0m\u001b[0;34m(\u001b[0m\u001b[0m_loss_func\u001b[0m\u001b[0;34m,\u001b[0m \u001b[0mx0\u001b[0m\u001b[0;34m,\u001b[0m \u001b[0margs\u001b[0m\u001b[0;34m=\u001b[0m\u001b[0;34m(\u001b[0m\u001b[0mabsorb\u001b[0m\u001b[0;34m,\u001b[0m \u001b[0mtes\u001b[0m\u001b[0;34m,\u001b[0m \u001b[0mqet\u001b[0m\u001b[0;34m,\u001b[0m \u001b[0mdet\u001b[0m\u001b[0;34m,\u001b[0m \u001b[0;32mFalse\u001b[0m\u001b[0;34m)\u001b[0m\u001b[0;34m,\u001b[0m \u001b[0mbounds\u001b[0m\u001b[0;34m=\u001b[0m\u001b[0mbounds\u001b[0m \u001b[0;34m)\u001b[0m\u001b[0;34m\u001b[0m\u001b[0;34m\u001b[0m\u001b[0m\n\u001b[0;32m--> 178\u001b[0;31m     \u001b[0mdet1\u001b[0m \u001b[0;34m=\u001b[0m \u001b[0m_loss_func\u001b[0m\u001b[0;34m(\u001b[0m\u001b[0mres\u001b[0m\u001b[0;34m[\u001b[0m\u001b[0;34m'x'\u001b[0m\u001b[0;34m]\u001b[0m\u001b[0;34m,\u001b[0m \u001b[0mabsorber\u001b[0m\u001b[0;34m,\u001b[0m \u001b[0mtes\u001b[0m\u001b[0;34m,\u001b[0m \u001b[0mqet\u001b[0m\u001b[0;34m,\u001b[0m \u001b[0mdet\u001b[0m\u001b[0;34m,\u001b[0m \u001b[0;32mTrue\u001b[0m\u001b[0;34m)\u001b[0m\u001b[0;34m\u001b[0m\u001b[0;34m\u001b[0m\u001b[0m\n\u001b[0m\u001b[1;32m    179\u001b[0m     \u001b[0;32mreturn\u001b[0m \u001b[0mdet1\u001b[0m\u001b[0;34m,\u001b[0m \u001b[0mres\u001b[0m\u001b[0;34m[\u001b[0m\u001b[0;34m'fun'\u001b[0m\u001b[0;34m]\u001b[0m\u001b[0;34m,\u001b[0m \u001b[0mres\u001b[0m\u001b[0;34m[\u001b[0m\u001b[0;34m'x'\u001b[0m\u001b[0;34m]\u001b[0m\u001b[0;34m\u001b[0m\u001b[0;34m\u001b[0m\u001b[0m\n\u001b[1;32m    180\u001b[0m \u001b[0;34m\u001b[0m\u001b[0m\n",
      "\u001b[0;31mNameError\u001b[0m: name 'absorber' is not defined"
     ]
    }
   ],
   "source": [
    "det_opt, eres, params = optimize_detector(tes_length0=l,\n",
    "    tes_l_overlap0=l_overlap,\n",
    "    n_fin0=n_fins,\n",
    "    l_fin0=l_f,\n",
    "    h_fin0=h_fin,\n",
    "    tes_width=w,\n",
    "    abs_type=\"Si\", \n",
    "    abs_shape=\"square\", \n",
    "    abs_height=1e-3, \n",
    "    abs_width=1e-2, \n",
    "    w_safety=3e-3,\n",
    "    sigma=sigma,\n",
    "    rn=res_n,\n",
    "    rp=6e-3,\n",
    "    L_tot=5e-08,\n",
    "    ahole=ahole,)\n"
   ]
  },
  {
   "cell_type": "code",
   "execution_count": 1,
   "metadata": {},
   "outputs": [
    {
     "ename": "NameError",
     "evalue": "name 'det' is not defined",
     "output_type": "error",
     "traceback": [
      "\u001b[0;31m---------------------------------------------------------------------------\u001b[0m",
      "\u001b[0;31mNameError\u001b[0m                                 Traceback (most recent call last)",
      "\u001b[0;32m<ipython-input-1-db71d336c830>\u001b[0m in \u001b[0;36m<module>\u001b[0;34m\u001b[0m\n\u001b[0;32m----> 1\u001b[0;31m \u001b[0mdet\u001b[0m\u001b[0;34m.\u001b[0m\u001b[0mplot_responsivity\u001b[0m\u001b[0;34m(\u001b[0m\u001b[0;34m)\u001b[0m\u001b[0;34m\u001b[0m\u001b[0;34m\u001b[0m\u001b[0m\n\u001b[0m",
      "\u001b[0;31mNameError\u001b[0m: name 'det' is not defined"
     ]
    }
   ],
   "source": [
    "det.plot_responsivity()"
   ]
  },
  {
   "cell_type": "code",
   "execution_count": null,
   "metadata": {},
   "outputs": [],
   "source": []
  }
 ],
 "metadata": {
  "kernelspec": {
   "display_name": "Python 3",
   "language": "python",
   "name": "python3"
  }
 },
 "nbformat": 4,
 "nbformat_minor": 4
}
