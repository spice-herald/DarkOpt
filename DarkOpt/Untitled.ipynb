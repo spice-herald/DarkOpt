{
 "cells": [
  {
   "cell_type": "code",
   "execution_count": 1,
   "metadata": {},
   "outputs": [],
   "source": [
    "from _TES import TES\n",
    "from _QET import QET\n",
    "from _absorber import Absorber\n",
    "from _detector import Detector, create_detector\n",
    "\n",
    "\n",
    "import numpy as np\n"
   ]
  },
  {
   "cell_type": "code",
   "execution_count": 14,
   "metadata": {},
   "outputs": [],
   "source": [
    "l = 140e-6 #2.5e-05*10\n",
    "w = 2.5e-06\n",
    "l_overlap = 20e-6\n",
    "n_fins = 6\n",
    "sigma = 220000000.0\n",
    "t0 = 40e-3\n",
    "res_n = 0.23999999999999996\n",
    "res_n = 1\n",
    "0.45\n",
    "con_type= 'ellipse'\n",
    "#con_type= 'modern'\n",
    "l_f = 150e-6 * 0.9#0.00030500000000000015\n",
    "h_fin = 600e-6# 9e-07\n",
    "ahole = 4.9e-11\n",
    "\n",
    "\n",
    "absorber = Absorber(name=\"Si\", shape= \"square\",\n",
    "                    height= 1e-3, width=1e-2,  w_safety=3e-3)\n",
    "#absorber.print()"
   ]
  },
  {
   "cell_type": "code",
   "execution_count": 20,
   "metadata": {},
   "outputs": [
    {
     "data": {
      "text/plain": [
       "0.24920149882907355"
      ]
     },
     "execution_count": 20,
     "metadata": {},
     "output_type": "execute_result"
    }
   ],
   "source": [
    "det1 = create_detector(abs_type=\"Si\", abs_shape=\"square\", abs_height=1e-3, abs_width=1e-2, w_safety=3e-3,\n",
    "    tes_length=l,\n",
    "    tes_width=w,\n",
    "    tes_l_overlap=l_overlap,\n",
    "    n_fin=n_fins,\n",
    "    sigma=sigma,\n",
    "    rn=res_n,\n",
    "    rp=6e-3,\n",
    "    L_tot=5e-08,\n",
    "    l_fin=l_f,\n",
    "    h_fin=h_fin,\n",
    "    ahole=ahole,)\n",
    "det1.calc_res()"
   ]
  },
  {
   "cell_type": "code",
   "execution_count": 21,
   "metadata": {},
   "outputs": [],
   "source": [
    "tes = TES(length=l,\n",
    "       width=w, \n",
    "       l_overlap = l_overlap,\n",
    "       n_fin=n_fins,\n",
    "       sigma=sigma,\n",
    "       rn=res_n,\n",
    "       rsh = 5e-3,\n",
    "       rp = 6e-3,   \n",
    "   L_tot= 5e-08,)\n",
    "#tes.print()\n",
    "qet = QET(l_fin=l_f, h_fin=h_fin, TES=tes, ahole=ahole, type_qp_eff=0)\n",
    "#qet.print()"
   ]
  },
  {
   "cell_type": "code",
   "execution_count": 22,
   "metadata": {},
   "outputs": [],
   "source": [
    "det = Detector(absorber, qet)\n",
    "#det.print()"
   ]
  },
  {
   "cell_type": "code",
   "execution_count": 23,
   "metadata": {},
   "outputs": [
    {
     "data": {
      "text/plain": [
       "0.24920149882907355"
      ]
     },
     "execution_count": 23,
     "metadata": {},
     "output_type": "execute_result"
    }
   ],
   "source": [
    "det.calc_res()\n",
    "#det.plot_si()\n",
    "#det.plot_sp()"
   ]
  },
  {
   "cell_type": "code",
   "execution_count": 6,
   "metadata": {},
   "outputs": [
    {
     "data": {
      "image/png": "[encoded data removed]",
      "text/plain": [
       "<Figure size 486x320.76 with 1 Axes>"
      ]
     },
     "metadata": {
      "needs_background": "light"
     },
     "output_type": "display_data"
    }
   ],
   "source": [
    "det.plot_responsivity()"
   ]
  },
  {
   "cell_type": "code",
   "execution_count": 7,
   "metadata": {},
   "outputs": [
    {
     "name": "stdout",
     "output_type": "stream",
     "text": [
      "---------------- DETECTOR PARAMETERS ----------------\n",
      "nP =  1\n",
      "SAactive =  1.0678712852893166e-05\n",
      "fSA_active =  0.04449463688705486\n",
      "lcell =  0.00034426518632954816\n",
      "SApassive =  3.236903414634146e-07\n",
      "fraction total Al cov =  0.04584334664315241\n",
      "fSA_passive =  0.0013487097560975609\n",
      "Alignment_area =  1.0385999999999999e-07\n",
      "fSA_QPabsb =  0.04584334664315241\n",
      "ePcollect =  0.970580032766892\n",
      "tau_pabsb =  7.984522210709284e-06\n",
      "w_pabsb =  125242.30925912442\n",
      "eE156 =  0.869\n",
      "QP_eff =  0.6979456453281264\n",
      "eEabsb =  0.30610898305218387\n",
      "Kpb =  0.000155\n",
      "nKpb =  4\n",
      "NQET.TES =  135\n",
      "total_L =  5e-08\n",
      "------------------------------------------------\n",
      "\n"
     ]
    }
   ],
   "source": [
    "det.print()"
   ]
  },
  {
   "cell_type": "code",
   "execution_count": null,
   "metadata": {},
   "outputs": [],
   "source": []
  },
  {
   "cell_type": "code",
   "execution_count": null,
   "metadata": {},
   "outputs": [],
   "source": []
  }
 ],
 "metadata": {
  "kernelspec": {
   "display_name": "Python 3",
   "language": "python",
   "name": "python3"
  },
  "language_info": {
   "codemirror_mode": {
    "name": "ipython",
    "version": 3
   },
   "file_extension": ".py",
   "mimetype": "text/x-python",
   "name": "python",
   "nbconvert_exporter": "python",
   "pygments_lexer": "ipython3",
   "version": "3.8.3"
  }
 },
 "nbformat": 4,
 "nbformat_minor": 4
}
