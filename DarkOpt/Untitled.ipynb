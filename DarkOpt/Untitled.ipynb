{
 "cells": [
  {
   "cell_type": "code",
   "execution_count": 1,
   "metadata": {},
   "outputs": [],
   "source": [
    "from _TES import TES\n",
    "from _QET import QET\n",
    "from _absorber import Absorber\n",
    "from _detector import Detector"
   ]
  },
  {
   "cell_type": "code",
   "execution_count": 2,
   "metadata": {},
   "outputs": [
    {
     "name": "stdout",
     "output_type": "stream",
     "text": [
      "---------------- ABSORBER PARAMETERS ----------------\n",
      "Absorber lscat  0.0016666666666666668\n",
      "Absorber SA_face 0.0001\n",
      "Absorber SA 0.00024\n",
      "Absorber mass 0.00023290000000000002\n",
      "------------------------------------------------\n",
      "\n"
     ]
    }
   ],
   "source": [
    "l = 2.5e-05\n",
    "w = 2.5e-06\n",
    "l_overlap = 4e-06\n",
    "n_fins = 2\n",
    "sigma = 220000000.0\n",
    "t0 = 40e-3\n",
    "res_n = 0.23999999999999996\n",
    "0.45\n",
    "con_type= 'ellipse'\n",
    "l_f = 0.00030500000000000015\n",
    "h_fin = 9e-07\n",
    "ahole = 4.9e-11\n",
    "\n",
    "\n",
    "absorber = Absorber(\"Si\", \"square\", 1e-3, 10e-3, 3e-3)\n",
    "absorber.print()"
   ]
  },
  {
   "cell_type": "code",
   "execution_count": 3,
   "metadata": {},
   "outputs": [
    {
     "name": "stdout",
     "output_type": "stream",
     "text": [
      "---------------- QET PARAMETERS ----------------\n",
      "ePQP =  0.52\n",
      "eQPabsb = 0.024542866675648405\n",
      "lfin =  0.00030500000000000015\n",
      "hfin =  9e-07\n",
      "loverlap =  4e-06\n",
      "ld =  510.29999999999995\n",
      "la =  1659.8360655737702 \n",
      "Afin_empty =  4.329000000000002e-09\n",
      "Afin =  2.9989497859200183e-07\n",
      "------------------------------------------------\n",
      "\n"
     ]
    }
   ],
   "source": [
    "tes = TES(length=l,\n",
    "   width=w, \n",
    "   l_overlap = l_overlap,\n",
    "   n_fin=n_fins,\n",
    "   sigma=sigma,\n",
    "   rn=res_n,\n",
    "   rl=0.011,\n",
    "   L_tot= 5e-08,)\n",
    "#tes.print()\n",
    "qet = QET(l_fin=l_f, h_fin=h_fin, TES=tes, ahole=ahole, type_qp_eff=2)\n",
    "qet.print()"
   ]
  },
  {
   "cell_type": "code",
   "execution_count": 4,
   "metadata": {},
   "outputs": [
    {
     "name": "stdout",
     "output_type": "stream",
     "text": [
      "---------------- DETECTOR PARAMETERS ----------------\n",
      "nP 1\n",
      "SAactive 2.9989497859200182e-05\n",
      "fSA_active 0.12495624108000075\n",
      "lcell 0.0004\n",
      "SApassive 2.4072510236220466e-07\n",
      "fSA_passive 0.0010030212598425195\n",
      "Alignment_area 1.0385999999999999e-07\n",
      "fSA_QPabsb 0.12595926233984328\n",
      "ePcollect 0.9920369392356687\n",
      "tau_pabsb 2.9059968491869373e-06\n",
      "w_pabsb 344115.99595498113\n",
      "eE156 0.869\n"
     ]
    },
    {
     "ename": "AttributeError",
     "evalue": "'QET' object has no attribute '_eQPabsb'",
     "output_type": "error",
     "traceback": [
      "\u001b[0;31m---------------------------------------------------------------------------\u001b[0m",
      "\u001b[0;31mAttributeError\u001b[0m                            Traceback (most recent call last)",
      "\u001b[0;32m<ipython-input-4-ea15175815cb>\u001b[0m in \u001b[0;36m<module>\u001b[0;34m\u001b[0m\n\u001b[1;32m      1\u001b[0m \u001b[0mdet\u001b[0m \u001b[0;34m=\u001b[0m \u001b[0mDetector\u001b[0m\u001b[0;34m(\u001b[0m\u001b[0;34m'farts'\u001b[0m\u001b[0;34m,\u001b[0m \u001b[0mabsorber\u001b[0m\u001b[0;34m,\u001b[0m \u001b[0mqet\u001b[0m\u001b[0;34m)\u001b[0m\u001b[0;34m\u001b[0m\u001b[0;34m\u001b[0m\u001b[0m\n\u001b[0;32m----> 2\u001b[0;31m \u001b[0mdet\u001b[0m\u001b[0;34m.\u001b[0m\u001b[0mprint\u001b[0m\u001b[0;34m(\u001b[0m\u001b[0;34m)\u001b[0m\u001b[0;34m\u001b[0m\u001b[0;34m\u001b[0m\u001b[0m\n\u001b[0m",
      "\u001b[0;32m~/Documents/research/code/repositories/DarkOpt/DarkOpt/_detector.py\u001b[0m in \u001b[0;36mprint\u001b[0;34m(self)\u001b[0m\n\u001b[1;32m    210\u001b[0m         \u001b[0mprint\u001b[0m\u001b[0;34m(\u001b[0m\u001b[0;34m\"w_pabsb %s\"\u001b[0m \u001b[0;34m%\u001b[0m \u001b[0;34m(\u001b[0m\u001b[0;36m1\u001b[0m\u001b[0;34m/\u001b[0m\u001b[0mself\u001b[0m\u001b[0;34m.\u001b[0m\u001b[0m_t_pabsb\u001b[0m\u001b[0;34m)\u001b[0m\u001b[0;34m)\u001b[0m\u001b[0;34m\u001b[0m\u001b[0;34m\u001b[0m\u001b[0m\n\u001b[1;32m    211\u001b[0m         \u001b[0mprint\u001b[0m\u001b[0;34m(\u001b[0m\u001b[0;34m\"eE156 %s\"\u001b[0m \u001b[0;34m%\u001b[0m \u001b[0mself\u001b[0m\u001b[0;34m.\u001b[0m\u001b[0m_e156\u001b[0m\u001b[0;34m)\u001b[0m\u001b[0;34m\u001b[0m\u001b[0;34m\u001b[0m\u001b[0m\n\u001b[0;32m--> 212\u001b[0;31m         \u001b[0mprint\u001b[0m\u001b[0;34m(\u001b[0m\u001b[0;34m\"QP_eff %s\"\u001b[0m \u001b[0;34m%\u001b[0m \u001b[0mself\u001b[0m\u001b[0;34m.\u001b[0m\u001b[0mQET\u001b[0m\u001b[0;34m.\u001b[0m\u001b[0m_eQPabsb\u001b[0m\u001b[0;34m)\u001b[0m\u001b[0;34m\u001b[0m\u001b[0;34m\u001b[0m\u001b[0m\n\u001b[0m\u001b[1;32m    213\u001b[0m         \u001b[0mprint\u001b[0m\u001b[0;34m(\u001b[0m\u001b[0;34m\"eEabsb %s\"\u001b[0m \u001b[0;34m%\u001b[0m \u001b[0mself\u001b[0m\u001b[0;34m.\u001b[0m\u001b[0m_eEabsb\u001b[0m\u001b[0;34m)\u001b[0m\u001b[0;34m\u001b[0m\u001b[0;34m\u001b[0m\u001b[0m\n\u001b[1;32m    214\u001b[0m         \u001b[0mprint\u001b[0m\u001b[0;34m(\u001b[0m\u001b[0;34m\"Kpb %s\"\u001b[0m \u001b[0;34m%\u001b[0m \u001b[0mself\u001b[0m\u001b[0;34m.\u001b[0m\u001b[0m_kpb\u001b[0m\u001b[0;34m)\u001b[0m\u001b[0;34m\u001b[0m\u001b[0;34m\u001b[0m\u001b[0m\n",
      "\u001b[0;31mAttributeError\u001b[0m: 'QET' object has no attribute '_eQPabsb'"
     ]
    }
   ],
   "source": [
    "det = Detector('farts', absorber, qet)\n",
    "det.print()"
   ]
  },
  {
   "cell_type": "code",
   "execution_count": 5,
   "metadata": {},
   "outputs": [],
   "source": [
    "vol = 100e-6*400e-6*40e-9\n",
    "4e-12/vol\n",
    "g = 4e-12"
   ]
  },
  {
   "cell_type": "code",
   "execution_count": 9,
   "metadata": {},
   "outputs": [
    {
     "data": {
      "text/plain": [
       "195312500.0"
      ]
     },
     "execution_count": 9,
     "metadata": {},
     "output_type": "execute_result"
    }
   ],
   "source": [
    "#K = vol * sigma\n",
    "n=5\n",
    "tc = 40e-3\n",
    "K = g/(n*tc**(n-1))\n",
    "K/vol"
   ]
  },
  {
   "cell_type": "code",
   "execution_count": 6,
   "metadata": {},
   "outputs": [
    {
     "data": {
      "text/plain": [
       "1.380649e-23"
      ]
     },
     "execution_count": 6,
     "metadata": {},
     "output_type": "execute_result"
    }
   ],
   "source": [
    "import scipy.constants as constants\n",
    "constants.k"
   ]
  },
  {
   "cell_type": "code",
   "execution_count": null,
   "metadata": {},
   "outputs": [],
   "source": [
    "self.K = self.tot_volume * sigma\n",
    "        \n",
    "\n",
    "        #  ---- Bias Point Temperature ----\n",
    "        # let's calculate the temperature of the operating point resistance.\n",
    "        # [Notice that if the resistance of the TES changes with current, then this doesn't work]\n",
    "        zeta_o = np.log(self.fOp/(1 - self.fOp))/2\n",
    "        self.t0 = zeta_o * self.wTc + self.T_c # K    \n",
    "        self.Gep = self.n * self.K * self.t0 ** (self.n-1)"
   ]
  }
 ],
 "metadata": {
  "kernelspec": {
   "display_name": "Python 3",
   "language": "python",
   "name": "python3"
  },
  "language_info": {
   "codemirror_mode": {
    "name": "ipython",
    "version": 3
   },
   "file_extension": ".py",
   "mimetype": "text/x-python",
   "name": "python",
   "nbconvert_exporter": "python",
   "pygments_lexer": "ipython3",
   "version": "3.8.3"
  }
 },
 "nbformat": 4,
 "nbformat_minor": 4
}
