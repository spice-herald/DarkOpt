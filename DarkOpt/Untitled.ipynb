{
 "cells": [
  {
   "cell_type": "code",
   "execution_count": 1,
   "metadata": {},
   "outputs": [],
   "source": [
    "from _TES import TES\n",
    "from _QET import QET"
   ]
  },
  {
   "cell_type": "code",
   "execution_count": 2,
   "metadata": {},
   "outputs": [],
   "source": [
    "l = 2.5e-05\n",
    "w = 2.5e-06\n",
    "l_overlap = 4e-06\n",
    "n_fins = 2\n",
    "sigma = 220000000.0\n",
    "t0 = 40e-3\n",
    "res_n = 0.23999999999999996\n",
    "0.45\n",
    "con_type= 'ellipse'\n",
    "l_f = 0.00030500000000000015\n",
    "h_fin = 9e-07\n",
    "ahole = 4.9e-11\n",
    "\n",
    "\n"
   ]
  },
  {
   "cell_type": "code",
   "execution_count": 3,
   "metadata": {},
   "outputs": [],
   "source": [
    "tes = TES(length=l,\n",
    "   width=w, \n",
    "   l_overlap = l_overlap,\n",
    "   n_fin=n_fins,\n",
    "   sigma=sigma,\n",
    "   rn=res_n,\n",
    "   rl=0.011,\n",
    "   L_tot= 5e-08,\n",
    "   lgcprint=False)\n",
    "\n",
    "#qet = QET(l_fin=l_f, h_fin=h_fin, n_fin=n_fins, l_tes=tes._l, l_overlap=tes._l_overlap, ahole=ahole)\n",
    "#qet.set_qpabsb_eff_matt()\n",
    "#qet.eQPabsb"
   ]
  },
  {
   "cell_type": "code",
   "execution_count": null,
   "metadata": {},
   "outputs": [],
   "source": []
  }
 ],
 "metadata": {
  "kernelspec": {
   "display_name": "Python 3",
   "language": "python",
   "name": "python3"
  },
  "language_info": {
   "codemirror_mode": {
    "name": "ipython",
    "version": 3
   },
   "file_extension": ".py",
   "mimetype": "text/x-python",
   "name": "python",
   "nbconvert_exporter": "python",
   "pygments_lexer": "ipython3",
   "version": "3.8.3"
  }
 },
 "nbformat": 4,
 "nbformat_minor": 4
}
