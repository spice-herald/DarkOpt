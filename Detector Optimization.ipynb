{
 "cells": [
  {
   "cell_type": "code",
   "execution_count": 1,
   "metadata": {},
   "outputs": [],
   "source": [
    "import numpy as np\n",
    "import seaborn as sns\n",
    "import matplotlib.pyplot as plt\n",
    "\n",
    "from fridge import Fridge\n",
    "from tes import TES\n",
    "from QET import QET\n",
    "from detector import Detector\n",
    "from PD2 import PD2\n",
    "from electronics import Electronics\n",
    "from absorber import Absorber\n",
    "from simulated_noise import simulate_noise\n",
    "from scipy.optimize import minimize\n",
    "import numpy as np\n",
    "import matplotlib.pyplot as plt\n",
    "from MaterialProperties import TESMaterial"
   ]
  },
  {
   "cell_type": "code",
   "execution_count": 2,
   "metadata": {},
   "outputs": [
    {
     "name": "stdout",
     "output_type": "stream",
     "text": [
      "---------------- ABSORBER PARAMETERS ----------------\n",
      "Absorber lscat  0.001948849104859335\n",
      "Absorber SA_face 0.00456036731187748\n",
      "Absorber SA 0.009360123983958501\n",
      "------------------------------------------------\n",
      "\n"
     ]
    }
   ],
   "source": [
    "fSnolab = Fridge(\"SNOLAB\", 20e-3, 145e-3, 900e-3, 4.8, 0)\n",
    "# Absorber: Silicon. Height 1mm. Radius 38.1mm. W safety 3mm. \n",
    "absorber = Absorber(\"Si\", \"cylinder\", 1e-3, 38.1e-3, 3e-3) # same as matlab\n",
    "eSnolab = Electronics(fSnolab, fSnolab.get_TCP(), fSnolab.get_TMC())\n",
    "eSLAC = Electronics(fSnolab, fSnolab.get_TMC(), fSnolab.get_TMC(), 5e-3, 6e-3, 25e-9, 25e-9, 4e-12)\n",
    "\n",
    "tungsten = TESMaterial()"
   ]
  },
  {
   "cell_type": "code",
   "execution_count": 12,
   "metadata": {},
   "outputs": [],
   "source": [
    "# new TES chips\n",
    "tes_l = 100e-6\n",
    "#tes_l = 140e-6\n",
    "tes_w = 400e-6\n",
    "#tes_w = 3.5e-6\n",
    "foverlap = 1.2 # same as matlab (why greater than 1??)\n",
    "l_overlap = 10e-6 # same as matlab \n",
    "n_fin = 6\n",
    "l_fin = 200e-6 # same as matlab\n",
    "h_fin = 600e-9 # same as matlab\n",
    "sigma = tungsten._gPep_v\n",
    "T_eq = -100\n",
    "res_n = 300e-3"
   ]
  },
  {
   "cell_type": "code",
   "execution_count": 13,
   "metadata": {},
   "outputs": [
    {
     "name": "stdout",
     "output_type": "stream",
     "text": [
      "---------------- TES PARAMETERS ----------------\n",
      "wTc 0.0001661186588593978\n",
      "Tc 0.04\n",
      "rho 9.599999999999999e-08\n",
      "t 4e-08\n",
      "l 0.0001\n",
      "w 0.0004\n",
      "res1tes 0.6\n",
      "n_fin 6\n",
      "vol1TES 1.6e-15\n",
      "vol1 1.666432e-15\n",
      "nTES 2\n",
      "volFinCon 2.6400000000000004e-17\n",
      "WAlOverlap 9.600000000000001e-17\n",
      "veff_WFinCon 0.88\n",
      "veff_WAloverlap 0.45\n",
      "Rn 0.3\n",
      "Ro 0.135\n",
      "fOp 0.45\n",
      "Ro 0.135\n",
      "L 0\n",
      "------------------------------------------------\n",
      "\n",
      "---------------- QET PARAMETERS ----------------\n",
      "ePQP 0.52\n",
      "lfin 0.0002\n",
      "hfin 6e-07\n",
      "loverlap 1e-05\n",
      "ld 0.0003402\n",
      "la 0.00029508196721311476 \n",
      "Afin_empty 1.0500000000000001e-08\n",
      "Afin 1.5516370614359174e-07\n",
      "------------------------------------------------\n",
      "\n"
     ]
    }
   ],
   "source": [
    "tes = TES(tes_l, tes_w, foverlap, n_fin, sigma, T_eq, res_n, tungsten )\n",
    "qet = QET( l_fin, h_fin, l_overlap, tes)"
   ]
  },
  {
   "cell_type": "code",
   "execution_count": 14,
   "metadata": {},
   "outputs": [
    {
     "name": "stdout",
     "output_type": "stream",
     "text": [
      "---------------- DETECTOR PARAMETERS ----------------\n",
      "nP 1\n",
      "SAactive 3.103274122871835e-07\n",
      "lcell 0.04399132621977406\n",
      "SApassive 4.789760624251109e-06\n",
      "fSA_QPabsb 0.0005448739830026704\n",
      "ePcollect 0.06084746186025048\n",
      "tau_pabsb 0.0007855225205744625\n",
      "w_pabsb 1273.0379763888723\n",
      "eE156 0.869\n",
      "eEabsb 0.008076805838490799\n",
      "Kpb 0.000155\n",
      "nKpb 4\n",
      "N_TES 2\n",
      "l_squid 2.5e-08\n",
      "l_p 2.5e-08\n",
      "tes_l 0\n",
      "total_L 5e-08\n",
      "------------------------------------------------\n",
      "\n"
     ]
    }
   ],
   "source": [
    "det = Detector(\"det name\", fSnolab, eSLAC, absorber, qet, tes, 1)"
   ]
  },
  {
   "cell_type": "code",
   "execution_count": 15,
   "metadata": {},
   "outputs": [
    {
     "name": "stdout",
     "output_type": "stream",
     "text": [
      "---------------- EQUILIBRIUM PARAMETERS ----------------\n",
      "wTc 0.0001661186588593978\n",
      "zeta_o -0.10033534773107562\n",
      "Tc 0.04\n",
      "To 0.039983332426598725\n",
      "K 7.3323008e-07\n",
      "n 5\n",
      "T_MC 0.02\n",
      "Ro 0.135\n",
      "Io 7.332329391926287e-07\n",
      "Rl 0.011\n",
      "fCsn 2.43\n",
      "gC_v 108\n",
      "vol 3.332864e-15 \n",
      "tau0 0.0037325048500283673 \n",
      "tau_etf 8.375476915206411e-05 \n",
      "r_ratio 0.08148148148148147 \n",
      "Lt5e-08 \n",
      "alpha 264.7605390703552\n",
      "beta 0\n",
      "C 3.497249438616425e-14\n",
      "Gep 9.369711706040639e-12\n",
      "Po 7.258012332080326e-14\n",
      "LG 51.29390254055988\n",
      "Io 7.332329391926287e-07\n",
      "VBias 1.0705200912212381e-07\n",
      "tau0 0.0037325048500283673\n",
      "tau_etf 8.375476915206411e-05\n",
      "w_etf 11939.618604695961\n",
      "----------------------------------------------------\n",
      "\n",
      "---------- Response Parameters------------\n",
      "Gep 9.369711706040639e-12\n",
      "LG  51.29390254055988\n",
      "C 3.497249438616425e-14\n",
      "Io 7.332329391926287e-07\n",
      "Lt 5e-08\n",
      "Rl 0.011\n",
      "Ro 0.135\n",
      "beta  0\n",
      "-----------------------------------------\n",
      "\n",
      "---------------- NOISE PARAMETERS ----------------\n",
      "--------------------------------------------------\n",
      "\n",
      ">>>>>>>>>>>>>>>>>>>>>> RESOLUTION IS 16.391223046413717\n"
     ]
    }
   ],
   "source": [
    "res = simulate_noise(det)"
   ]
  },
  {
   "cell_type": "code",
   "execution_count": null,
   "metadata": {},
   "outputs": [],
   "source": []
  },
  {
   "cell_type": "code",
   "execution_count": null,
   "metadata": {},
   "outputs": [],
   "source": []
  }
 ],
 "metadata": {
  "kernelspec": {
   "display_name": "Python 3",
   "language": "python",
   "name": "python3"
  },
  "language_info": {
   "codemirror_mode": {
    "name": "ipython",
    "version": 3
   },
   "file_extension": ".py",
   "mimetype": "text/x-python",
   "name": "python",
   "nbconvert_exporter": "python",
   "pygments_lexer": "ipython3",
   "version": "3.7.3"
  }
 },
 "nbformat": 4,
 "nbformat_minor": 2
}
